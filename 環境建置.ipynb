{
  "nbformat": 4,
  "nbformat_minor": 0,
  "metadata": {
    "colab": {
      "provenance": [],
      "gpuType": "T4"
    },
    "kernelspec": {
      "name": "python3",
      "display_name": "Python 3"
    },
    "language_info": {
      "name": "python"
    },
    "accelerator": "GPU",
    "widgets": {
      "application/vnd.jupyter.widget-state+json": {
        "a12f3b61bf4a43f9a801b172f5f7b07a": {
          "model_module": "@jupyter-widgets/controls",
          "model_name": "VBoxModel",
          "model_module_version": "1.5.0",
          "state": {
            "_dom_classes": [
              "widget-interact"
            ],
            "_model_module": "@jupyter-widgets/controls",
            "_model_module_version": "1.5.0",
            "_model_name": "VBoxModel",
            "_view_count": null,
            "_view_module": "@jupyter-widgets/controls",
            "_view_module_version": "1.5.0",
            "_view_name": "VBoxView",
            "box_style": "",
            "children": [
              "IPY_MODEL_29562ffd0f7f479b9d3db63ea73a566d",
              "IPY_MODEL_857a2cf9cf6d4c418de337cba4848fb5",
              "IPY_MODEL_add3fb93d93b46ccb3afb54e9363e50d"
            ],
            "layout": "IPY_MODEL_b02aa278d21f4909a5881aa3923f8777"
          }
        },
        "29562ffd0f7f479b9d3db63ea73a566d": {
          "model_module": "@jupyter-widgets/controls",
          "model_name": "IntSliderModel",
          "model_module_version": "1.5.0",
          "state": {
            "_dom_classes": [],
            "_model_module": "@jupyter-widgets/controls",
            "_model_module_version": "1.5.0",
            "_model_name": "IntSliderModel",
            "_view_count": null,
            "_view_module": "@jupyter-widgets/controls",
            "_view_module_version": "1.5.0",
            "_view_name": "IntSliderView",
            "continuous_update": true,
            "description": "w",
            "description_tooltip": null,
            "disabled": false,
            "layout": "IPY_MODEL_7406fa235d2a404182c5b9a210d98aa0",
            "max": 100,
            "min": -100,
            "orientation": "horizontal",
            "readout": true,
            "readout_format": "d",
            "step": 1,
            "style": "IPY_MODEL_b8a9064e4ced4dbda6c3a11d039be13e",
            "value": 29
          }
        },
        "857a2cf9cf6d4c418de337cba4848fb5": {
          "model_module": "@jupyter-widgets/controls",
          "model_name": "IntSliderModel",
          "model_module_version": "1.5.0",
          "state": {
            "_dom_classes": [],
            "_model_module": "@jupyter-widgets/controls",
            "_model_module_version": "1.5.0",
            "_model_name": "IntSliderModel",
            "_view_count": null,
            "_view_module": "@jupyter-widgets/controls",
            "_view_module_version": "1.5.0",
            "_view_name": "IntSliderView",
            "continuous_update": true,
            "description": "b",
            "description_tooltip": null,
            "disabled": false,
            "layout": "IPY_MODEL_656d485f052143e687eeb03a0f57b7bb",
            "max": 100,
            "min": -100,
            "orientation": "horizontal",
            "readout": true,
            "readout_format": "d",
            "step": 1,
            "style": "IPY_MODEL_ab2708f6c268408abc331c1ab427ff8a",
            "value": 0
          }
        },
        "add3fb93d93b46ccb3afb54e9363e50d": {
          "model_module": "@jupyter-widgets/output",
          "model_name": "OutputModel",
          "model_module_version": "1.0.0",
          "state": {
            "_dom_classes": [],
            "_model_module": "@jupyter-widgets/output",
            "_model_module_version": "1.0.0",
            "_model_name": "OutputModel",
            "_view_count": null,
            "_view_module": "@jupyter-widgets/output",
            "_view_module_version": "1.0.0",
            "_view_name": "OutputView",
            "layout": "IPY_MODEL_df96a14d41b64d97bcb54c8de6cdbc24",
            "msg_id": "",
            "outputs": [
              {
                "output_type": "display_data",
                "data": {
                  "text/plain": "<Figure size 640x480 with 1 Axes>",
                  "image/png": "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\n"
                },
                "metadata": {}
              }
            ]
          }
        },
        "b02aa278d21f4909a5881aa3923f8777": {
          "model_module": "@jupyter-widgets/base",
          "model_name": "LayoutModel",
          "model_module_version": "1.2.0",
          "state": {
            "_model_module": "@jupyter-widgets/base",
            "_model_module_version": "1.2.0",
            "_model_name": "LayoutModel",
            "_view_count": null,
            "_view_module": "@jupyter-widgets/base",
            "_view_module_version": "1.2.0",
            "_view_name": "LayoutView",
            "align_content": null,
            "align_items": null,
            "align_self": null,
            "border": null,
            "bottom": null,
            "display": null,
            "flex": null,
            "flex_flow": null,
            "grid_area": null,
            "grid_auto_columns": null,
            "grid_auto_flow": null,
            "grid_auto_rows": null,
            "grid_column": null,
            "grid_gap": null,
            "grid_row": null,
            "grid_template_areas": null,
            "grid_template_columns": null,
            "grid_template_rows": null,
            "height": null,
            "justify_content": null,
            "justify_items": null,
            "left": null,
            "margin": null,
            "max_height": null,
            "max_width": null,
            "min_height": null,
            "min_width": null,
            "object_fit": null,
            "object_position": null,
            "order": null,
            "overflow": null,
            "overflow_x": null,
            "overflow_y": null,
            "padding": null,
            "right": null,
            "top": null,
            "visibility": null,
            "width": null
          }
        },
        "7406fa235d2a404182c5b9a210d98aa0": {
          "model_module": "@jupyter-widgets/base",
          "model_name": "LayoutModel",
          "model_module_version": "1.2.0",
          "state": {
            "_model_module": "@jupyter-widgets/base",
            "_model_module_version": "1.2.0",
            "_model_name": "LayoutModel",
            "_view_count": null,
            "_view_module": "@jupyter-widgets/base",
            "_view_module_version": "1.2.0",
            "_view_name": "LayoutView",
            "align_content": null,
            "align_items": null,
            "align_self": null,
            "border": null,
            "bottom": null,
            "display": null,
            "flex": null,
            "flex_flow": null,
            "grid_area": null,
            "grid_auto_columns": null,
            "grid_auto_flow": null,
            "grid_auto_rows": null,
            "grid_column": null,
            "grid_gap": null,
            "grid_row": null,
            "grid_template_areas": null,
            "grid_template_columns": null,
            "grid_template_rows": null,
            "height": null,
            "justify_content": null,
            "justify_items": null,
            "left": null,
            "margin": null,
            "max_height": null,
            "max_width": null,
            "min_height": null,
            "min_width": null,
            "object_fit": null,
            "object_position": null,
            "order": null,
            "overflow": null,
            "overflow_x": null,
            "overflow_y": null,
            "padding": null,
            "right": null,
            "top": null,
            "visibility": null,
            "width": null
          }
        },
        "b8a9064e4ced4dbda6c3a11d039be13e": {
          "model_module": "@jupyter-widgets/controls",
          "model_name": "SliderStyleModel",
          "model_module_version": "1.5.0",
          "state": {
            "_model_module": "@jupyter-widgets/controls",
            "_model_module_version": "1.5.0",
            "_model_name": "SliderStyleModel",
            "_view_count": null,
            "_view_module": "@jupyter-widgets/base",
            "_view_module_version": "1.2.0",
            "_view_name": "StyleView",
            "description_width": "",
            "handle_color": null
          }
        },
        "656d485f052143e687eeb03a0f57b7bb": {
          "model_module": "@jupyter-widgets/base",
          "model_name": "LayoutModel",
          "model_module_version": "1.2.0",
          "state": {
            "_model_module": "@jupyter-widgets/base",
            "_model_module_version": "1.2.0",
            "_model_name": "LayoutModel",
            "_view_count": null,
            "_view_module": "@jupyter-widgets/base",
            "_view_module_version": "1.2.0",
            "_view_name": "LayoutView",
            "align_content": null,
            "align_items": null,
            "align_self": null,
            "border": null,
            "bottom": null,
            "display": null,
            "flex": null,
            "flex_flow": null,
            "grid_area": null,
            "grid_auto_columns": null,
            "grid_auto_flow": null,
            "grid_auto_rows": null,
            "grid_column": null,
            "grid_gap": null,
            "grid_row": null,
            "grid_template_areas": null,
            "grid_template_columns": null,
            "grid_template_rows": null,
            "height": null,
            "justify_content": null,
            "justify_items": null,
            "left": null,
            "margin": null,
            "max_height": null,
            "max_width": null,
            "min_height": null,
            "min_width": null,
            "object_fit": null,
            "object_position": null,
            "order": null,
            "overflow": null,
            "overflow_x": null,
            "overflow_y": null,
            "padding": null,
            "right": null,
            "top": null,
            "visibility": null,
            "width": null
          }
        },
        "ab2708f6c268408abc331c1ab427ff8a": {
          "model_module": "@jupyter-widgets/controls",
          "model_name": "SliderStyleModel",
          "model_module_version": "1.5.0",
          "state": {
            "_model_module": "@jupyter-widgets/controls",
            "_model_module_version": "1.5.0",
            "_model_name": "SliderStyleModel",
            "_view_count": null,
            "_view_module": "@jupyter-widgets/base",
            "_view_module_version": "1.2.0",
            "_view_name": "StyleView",
            "description_width": "",
            "handle_color": null
          }
        },
        "df96a14d41b64d97bcb54c8de6cdbc24": {
          "model_module": "@jupyter-widgets/base",
          "model_name": "LayoutModel",
          "model_module_version": "1.2.0",
          "state": {
            "_model_module": "@jupyter-widgets/base",
            "_model_module_version": "1.2.0",
            "_model_name": "LayoutModel",
            "_view_count": null,
            "_view_module": "@jupyter-widgets/base",
            "_view_module_version": "1.2.0",
            "_view_name": "LayoutView",
            "align_content": null,
            "align_items": null,
            "align_self": null,
            "border": null,
            "bottom": null,
            "display": null,
            "flex": null,
            "flex_flow": null,
            "grid_area": null,
            "grid_auto_columns": null,
            "grid_auto_flow": null,
            "grid_auto_rows": null,
            "grid_column": null,
            "grid_gap": null,
            "grid_row": null,
            "grid_template_areas": null,
            "grid_template_columns": null,
            "grid_template_rows": null,
            "height": null,
            "justify_content": null,
            "justify_items": null,
            "left": null,
            "margin": null,
            "max_height": null,
            "max_width": null,
            "min_height": null,
            "min_width": null,
            "object_fit": null,
            "object_position": null,
            "order": null,
            "overflow": null,
            "overflow_x": null,
            "overflow_y": null,
            "padding": null,
            "right": null,
            "top": null,
            "visibility": null,
            "width": null
          }
        }
      }
    }
  },
  "cells": [
    {
      "cell_type": "code",
      "execution_count": null,
      "metadata": {
        "colab": {
          "base_uri": "https://localhost:8080/"
        },
        "id": "lTW5l8JMtI4a",
        "outputId": "425a6c81-6f0b-4146-ca8d-6c51c408af7e"
      },
      "outputs": [
        {
          "output_type": "stream",
          "name": "stdout",
          "text": [
            "34\n"
          ]
        }
      ],
      "source": [
        "print(34)"
      ]
    },
    {
      "cell_type": "code",
      "source": [
        "print(46)"
      ],
      "metadata": {
        "colab": {
          "base_uri": "https://localhost:8080/"
        },
        "id": "8rk8rEf3uUny",
        "outputId": "141f92e2-88da-4e77-e5f0-36ba023844ff"
      },
      "execution_count": null,
      "outputs": [
        {
          "output_type": "stream",
          "name": "stdout",
          "text": [
            "46\n"
          ]
        }
      ]
    },
    {
      "cell_type": "markdown",
      "source": [
        "神先愛我們"
      ],
      "metadata": {
        "id": "joglOCwVuYCY"
      }
    },
    {
      "cell_type": "code",
      "source": [
        "!nvidia-smi"
      ],
      "metadata": {
        "colab": {
          "base_uri": "https://localhost:8080/"
        },
        "id": "QoGMeJqfvcJp",
        "outputId": "e97bf8c9-c39e-4010-e7d6-dfbc922f7733"
      },
      "execution_count": null,
      "outputs": [
        {
          "output_type": "stream",
          "name": "stdout",
          "text": [
            "Thu Oct  3 14:17:24 2024       \n",
            "+---------------------------------------------------------------------------------------+\n",
            "| NVIDIA-SMI 535.104.05             Driver Version: 535.104.05   CUDA Version: 12.2     |\n",
            "|-----------------------------------------+----------------------+----------------------+\n",
            "| GPU  Name                 Persistence-M | Bus-Id        Disp.A | Volatile Uncorr. ECC |\n",
            "| Fan  Temp   Perf          Pwr:Usage/Cap |         Memory-Usage | GPU-Util  Compute M. |\n",
            "|                                         |                      |               MIG M. |\n",
            "|=========================================+======================+======================|\n",
            "|   0  Tesla T4                       Off | 00000000:00:04.0 Off |                    0 |\n",
            "| N/A   45C    P8               9W /  70W |      0MiB / 15360MiB |      0%      Default |\n",
            "|                                         |                      |                  N/A |\n",
            "+-----------------------------------------+----------------------+----------------------+\n",
            "                                                                                         \n",
            "+---------------------------------------------------------------------------------------+\n",
            "| Processes:                                                                            |\n",
            "|  GPU   GI   CI        PID   Type   Process name                            GPU Memory |\n",
            "|        ID   ID                                                             Usage      |\n",
            "|=======================================================================================|\n",
            "|  No running processes found                                                           |\n",
            "+---------------------------------------------------------------------------------------+\n"
          ]
        }
      ]
    },
    {
      "cell_type": "code",
      "source": [
        "import pandas as pd\n",
        "\n",
        "url = \"https://raw.githubusercontent.com/GrandmaCan/ML/main/Resgression/Salary_Data.csv\"\n",
        "\n",
        "data = pd.read_csv(url)\n",
        "data\n",
        "# y = w*x + b\n",
        "x = data[\"YearsExperience\"]\n",
        "y = data[\"Salary\"]"
      ],
      "metadata": {
        "id": "uYOXVmd8vcGJ"
      },
      "execution_count": null,
      "outputs": []
    },
    {
      "cell_type": "code",
      "source": [
        "!pip install wget\n",
        "import wget\n",
        "wget.download(\"https://github.com/GrandmaCan/ML/raw/main/Resgression/ChineseFont.ttf\")"
      ],
      "metadata": {
        "colab": {
          "base_uri": "https://localhost:8080/",
          "height": 209
        },
        "id": "R3LqO9phBR8s",
        "outputId": "787f3463-1968-44d1-bb2a-6910a4147e4f"
      },
      "execution_count": null,
      "outputs": [
        {
          "output_type": "stream",
          "name": "stdout",
          "text": [
            "Collecting wget\n",
            "  Downloading wget-3.2.zip (10 kB)\n",
            "  Preparing metadata (setup.py) ... \u001b[?25l\u001b[?25hdone\n",
            "Building wheels for collected packages: wget\n",
            "  Building wheel for wget (setup.py) ... \u001b[?25l\u001b[?25hdone\n",
            "  Created wheel for wget: filename=wget-3.2-py3-none-any.whl size=9656 sha256=be8cff37d500ae88b2d5054cc2969fe7fccd899c8d4f15fd2c420a3093b41d0e\n",
            "  Stored in directory: /root/.cache/pip/wheels/8b/f1/7f/5c94f0a7a505ca1c81cd1d9208ae2064675d97582078e6c769\n",
            "Successfully built wget\n",
            "Installing collected packages: wget\n",
            "Successfully installed wget-3.2\n"
          ]
        },
        {
          "output_type": "execute_result",
          "data": {
            "text/plain": [
              "'ChineseFont.ttf'"
            ],
            "application/vnd.google.colaboratory.intrinsic+json": {
              "type": "string"
            }
          },
          "metadata": {},
          "execution_count": 3
        }
      ]
    },
    {
      "cell_type": "code",
      "source": [
        "import matplotlib.pyplot as plt\n",
        "import matplotlib as mlp\n",
        "from matplotlib.font_manager import fontManager\n",
        "fontManager.addfont(\"ChineseFont.ttf\")\n",
        "mlp.rc('font', family=\"ChineseFont\")\n",
        "plt.scatter(x,y, marker=\"x\" , color=\"red\")\n",
        "plt.title(\"年資-薪水\")\n",
        "plt.xlabel(\"年資\")\n",
        "plt.ylabel(\"月薪(千)\")\n",
        "plt.show()"
      ],
      "metadata": {
        "colab": {
          "base_uri": "https://localhost:8080/",
          "height": 472
        },
        "outputId": "084539e4-1fdb-4cb0-eafb-0d58076c6274",
        "id": "fNCuEllMurzM"
      },
      "execution_count": null,
      "outputs": [
        {
          "output_type": "display_data",
          "data": {
            "text/plain": [
              "<Figure size 640x480 with 1 Axes>"
            ],
            "image/png": "[encoded data removed]"
          },
          "metadata": {}
        }
      ]
    },
    {
      "cell_type": "code",
      "source": [
        "def plot_pred(w,b):\n",
        "   y_pred = x*w+b\n",
        "   plt.plot(x,y_pred ,color=\"blue\" ,label=\"預測線\")\n",
        "   plt.scatter(x,y, marker=\"x\" , color=\"red\" ,label=\"真實數據\")\n",
        "   plt.title(\"年資-薪水\")\n",
        "   plt.xlabel(\"年資\")\n",
        "   plt.ylabel(\"月薪(千)\")\n",
        "   plt.xlim([0 ,12])\n",
        "   plt.ylim([-60 ,140])\n",
        "   plt.legend()\n",
        "   plt.show()\n",
        "\n",
        "plot_pred(9,30)"
      ],
      "metadata": {
        "colab": {
          "base_uri": "https://localhost:8080/",
          "height": 472
        },
        "id": "4kVVn0UOyGpy",
        "outputId": "320bbe6c-8e1e-4483-eb85-b891a73ffcd3"
      },
      "execution_count": null,
      "outputs": [
        {
          "output_type": "display_data",
          "data": {
            "text/plain": [
              "<Figure size 640x480 with 1 Axes>"
            ],
            "image/png": "[encoded data removed]"
          },
          "metadata": {}
        }
      ]
    },
    {
      "cell_type": "code",
      "source": [
        "from ipywidgets import interact\n",
        "interact(plot_pred, w=(-100 ,100 ,1), b=(-100 ,100 ,1))"
      ],
      "metadata": {
        "colab": {
          "base_uri": "https://localhost:8080/",
          "height": 622,
          "referenced_widgets": [
            "a12f3b61bf4a43f9a801b172f5f7b07a",
            "29562ffd0f7f479b9d3db63ea73a566d",
            "857a2cf9cf6d4c418de337cba4848fb5",
            "add3fb93d93b46ccb3afb54e9363e50d",
            "b02aa278d21f4909a5881aa3923f8777",
            "7406fa235d2a404182c5b9a210d98aa0",
            "b8a9064e4ced4dbda6c3a11d039be13e",
            "656d485f052143e687eeb03a0f57b7bb",
            "ab2708f6c268408abc331c1ab427ff8a",
            "df96a14d41b64d97bcb54c8de6cdbc24"
          ]
        },
        "id": "DfToeVYk8njL",
        "outputId": "5bbd5774-551c-40dc-e200-da631b4552c1"
      },
      "execution_count": null,
      "outputs": [
        {
          "output_type": "display_data",
          "data": {
            "text/plain": [
              "interactive(children=(IntSlider(value=0, description='w', min=-100), IntSlider(value=0, description='b', min=-…"
            ],
            "application/vnd.jupyter.widget-view+json": {
              "version_major": 2,
              "version_minor": 0,
              "model_id": "a12f3b61bf4a43f9a801b172f5f7b07a"
            }
          },
          "metadata": {}
        },
        {
          "output_type": "execute_result",
          "data": {
            "text/plain": [
              "<function __main__.plot_pred(w, b)>"
            ],
            "text/html": [
              "<div style=\"max-width:800px; border: 1px solid var(--colab-border-color);\"><style>\n",
              "      pre.function-repr-contents {\n",
              "        overflow-x: auto;\n",
              "        padding: 8px 12px;\n",
              "        max-height: 500px;\n",
              "      }\n",
              "\n",
              "      pre.function-repr-contents.function-repr-contents-collapsed {\n",
              "        cursor: pointer;\n",
              "        max-height: 100px;\n",
              "      }\n",
              "    </style>\n",
              "    <pre style=\"white-space: initial; background:\n",
              "         var(--colab-secondary-surface-color); padding: 8px 12px;\n",
              "         border-bottom: 1px solid var(--colab-border-color);\"><b>plot_pred</b><br/>def plot_pred(w, b)</pre><pre class=\"function-repr-contents function-repr-contents-collapsed\" style=\"\"><a class=\"filepath\" style=\"display:none\" href=\"#\">/content/&lt;ipython-input-32-b0f8d323b733&gt;</a>&lt;no docstring&gt;</pre></div>"
            ]
          },
          "metadata": {},
          "execution_count": 33
        }
      ]
    }
  ]
}